{
  "nbformat": 4,
  "nbformat_minor": 0,
  "metadata": {
    "colab": {
      "name": "Youtube_Analysis_Listas.ipynb",
      "provenance": [],
      "collapsed_sections": []
    },
    "kernelspec": {
      "name": "python3",
      "display_name": "Python 3"
    }
  },
  "cells": [
    {
      "cell_type": "code",
      "metadata": {
        "colab": {
          "base_uri": "https://localhost:8080/"
        },
        "id": "6w4Y_CbRQ3-i",
        "outputId": "6aa1c4f9-1d0a-42df-f5d6-94c39255d248"
      },
      "source": [
        "!pip install google-api-python-client\n",
        "from googleapiclient.discovery import build\n",
        "import pandas as pd\n",
        "\n",
        "import traceback\n",
        "import os\n",
        "import datetime\n",
        "# from urllib.parse import parse_qs, urlparse\n",
        "import requests\n",
        "import json\n",
        "import numpy as np\n",
        "import unicodedata\n",
        "import matplotlib.pyplot as plt\n",
        "\n"
      ],
      "execution_count": null,
      "outputs": [
        {
          "output_type": "stream",
          "text": [
            "Requirement already satisfied: google-api-python-client in /usr/local/lib/python3.6/dist-packages (1.7.12)\n",
            "Requirement already satisfied: google-auth>=1.4.1 in /usr/local/lib/python3.6/dist-packages (from google-api-python-client) (1.17.2)\n",
            "Requirement already satisfied: uritemplate<4dev,>=3.0.0 in /usr/local/lib/python3.6/dist-packages (from google-api-python-client) (3.0.1)\n",
            "Requirement already satisfied: six<2dev,>=1.6.1 in /usr/local/lib/python3.6/dist-packages (from google-api-python-client) (1.15.0)\n",
            "Requirement already satisfied: httplib2<1dev,>=0.17.0 in /usr/local/lib/python3.6/dist-packages (from google-api-python-client) (0.17.4)\n",
            "Requirement already satisfied: google-auth-httplib2>=0.0.3 in /usr/local/lib/python3.6/dist-packages (from google-api-python-client) (0.0.4)\n",
            "Requirement already satisfied: pyasn1-modules>=0.2.1 in /usr/local/lib/python3.6/dist-packages (from google-auth>=1.4.1->google-api-python-client) (0.2.8)\n",
            "Requirement already satisfied: setuptools>=40.3.0 in /usr/local/lib/python3.6/dist-packages (from google-auth>=1.4.1->google-api-python-client) (50.3.2)\n",
            "Requirement already satisfied: rsa<5,>=3.1.4; python_version >= \"3\" in /usr/local/lib/python3.6/dist-packages (from google-auth>=1.4.1->google-api-python-client) (4.6)\n",
            "Requirement already satisfied: cachetools<5.0,>=2.0.0 in /usr/local/lib/python3.6/dist-packages (from google-auth>=1.4.1->google-api-python-client) (4.2.0)\n",
            "Requirement already satisfied: pyasn1<0.5.0,>=0.4.6 in /usr/local/lib/python3.6/dist-packages (from pyasn1-modules>=0.2.1->google-auth>=1.4.1->google-api-python-client) (0.4.8)\n"
          ],
          "name": "stdout"
        }
      ]
    },
    {
      "cell_type": "code",
      "metadata": {
        "id": "osjA11tUTYfc"
      },
      "source": [
        "def dataframe_videos(UploadId):\n",
        "  \n",
        "  youTubeApiKey= #key\n",
        "  youtube=build('youtube','v3',developerKey=youTubeApiKey)\n",
        "  allVideos = []\n",
        "  nextPage_token = None\n",
        "  res = youtube.playlistItems().list(playlistId = UploadId,maxResults = 100,\n",
        "                                     part = 'snippet',pageToken = nextPage_token).execute()\n",
        "\n",
        "  \n",
        "  while 1:\n",
        "    res = youtube.playlistItems().list(playlistId = UploadId,maxResults = 100,part = 'snippet',pageToken = nextPage_token).execute()\n",
        "\n",
        "    allVideos += res['items']\n",
        "\n",
        "    nextPage_token = res.get('nextPageToken')\n",
        "\n",
        "    if nextPage_token is  None:\n",
        "      break\n",
        "  \n",
        "  video_ids = list(map(lambda x:x['snippet']['resourceId']['videoId'], allVideos))\n",
        "\n",
        "  stats = []\n",
        "  for i in range(0, len(video_ids), 40):\n",
        "    res = (youtube).videos().list(id=','.join(video_ids[i:i+40]),part='statistics').execute()\n",
        "    stats += res['items']\n",
        "  \n",
        "\n",
        "\n",
        "  title=[ ]\n",
        "  liked=[ ]\n",
        "  disliked=[ ]\n",
        "  views=[ ]\n",
        "  url=[ ]\n",
        "  comment=[ ]\n",
        "  videoid = []\n",
        "  publishedDate = []\n",
        "  video_description = []\n",
        "\n",
        "  for i in range(0,len(stats)-2):\n",
        "    # print(i)\n",
        "    i += 1\n",
        "    title.append((allVideos[i])['snippet']['title'])\n",
        "    publishedDate.append((allVideos[i])['snippet']['publishedAt'])\n",
        "    video_description.append((allVideos[i])['snippet']['description'])\n",
        "    liked.append(int((stats[i])['statistics']['likeCount']))\n",
        "    disliked.append(int((stats[i])['statistics']['dislikeCount']))\n",
        "    views.append(int((stats[i])['statistics']['viewCount']))\n",
        "    comment.append(int((stats[0])['statistics']['commentCount']))\n",
        "    videoid.append(allVideos[i]['snippet']['resourceId']['videoId'])\n",
        "\n",
        "  data={'title':title,'videoIDS':videoid,'video_description':video_description,'publishedDate':publishedDate,\n",
        "      'likes':liked,'dislikes':disliked,'views':views,'comment':comment}\n",
        "  \n",
        "  return pd.DataFrame(data)\n",
        "\n",
        "def strip_accents(s):\n",
        "   return ''.join(c for c in unicodedata.normalize('NFD', s)\n",
        "                  if unicodedata.category(c) != 'Mn')\n",
        "\n",
        "def clean_df(df):\n",
        "\n",
        "  df[\"title\"]= df[\"title\"].astype(str)\n",
        "  #df[[\"artist\",\"song\",\"otro\"]] = df[\"title\"].str.split(\"-\", expand=True)\n",
        "  df[[\"artist\",\"song\"]] = df[\"title\"].str.split(\"-\", expand=True)\n",
        "  \n",
        "  #print(\"aqui\")\n",
        "  #df.drop(columns=[\"title\",\"comment\",\"otro\"], axis=1,inplace=True)\n",
        "  df.drop(columns=[\"title\",\"comment\"], axis=1,inplace=True)\n",
        "  \n",
        "  df[[\"artista\",\"otro\"]] = df[\"artist\"].str.split(\"(\", expand=True)\n",
        "  df[[\"cancion\",\"otros\"]] = df[\"song\"].str.split(\"(\", expand=True)\n",
        "  df[[\"otros2\",\"otros3\"]] = df[\"song\"].str.split(\"[\",expand=True)\n",
        "  df.drop(columns=[\"artist\",\"otro\",\"otros\",\"song\",\"otros2\",\"otros3\"], axis=1,inplace=True)\n",
        "  cols= df.columns.to_list()\n",
        "  cols = cols[-2:] + cols[:-2]\n",
        "  df = df[cols]\n",
        "\n",
        "  cols = df.select_dtypes(include=[np.object]).columns\n",
        "  df[cols] = df[cols].apply(lambda x: x.str.normalize('NFKD').str.encode('ascii', errors='ignore').str.decode('utf-8'))\n",
        "  df= df.applymap(lambda s:s.lower() if type(s) == str else s)\n",
        "  df.drop(\"video_description\", axis=1,inplace=True)               \n",
        "\n",
        "  df[\"date\"] = df[\"publishedDate\"].str[:10]\n",
        "  df.drop(\"publishedDate\", axis=1,inplace=True)\n",
        "  df[\"date\"] = pd.to_datetime(df[\"date\"])\n",
        "\n",
        "  df[\"liked\"]= (df[\"likes\"])/(df[\"likes\"]+df[\"dislikes\"])\n",
        "  df[\"reactions\"] = df[\"likes\"]+df[\"dislikes\"]\n",
        "\n",
        "  return df\n",
        "\n",
        "\n",
        "def top_artistas(df,no_artistas=5):\n",
        "  df.artista.value_counts().sort_values(ascending=False)[:no_artistas].plot(kind = 'bar')\n",
        "  plt.ylabel(\"No. canciones\") "
      ],
      "execution_count": null,
      "outputs": []
    },
    {
      "cell_type": "code",
      "metadata": {
        "colab": {
          "base_uri": "https://localhost:8080/",
          "height": 296
        },
        "id": "0i4dQUM2Vn2m",
        "outputId": "88c689bb-ca88-4428-f3ad-a0d020a0e981"
      },
      "source": [
        "playlist = \"RD0PXOFyVZQRk\"\n",
        "df1=dataframe_videos(playlist)\n",
        "df1.head()"
      ],
      "execution_count": null,
      "outputs": [
        {
          "output_type": "execute_result",
          "data": {
            "text/html": [
              "<div>\n",
              "<style scoped>\n",
              "    .dataframe tbody tr th:only-of-type {\n",
              "        vertical-align: middle;\n",
              "    }\n",
              "\n",
              "    .dataframe tbody tr th {\n",
              "        vertical-align: top;\n",
              "    }\n",
              "\n",
              "    .dataframe thead th {\n",
              "        text-align: right;\n",
              "    }\n",
              "</style>\n",
              "<table border=\"1\" class=\"dataframe\">\n",
              "  <thead>\n",
              "    <tr style=\"text-align: right;\">\n",
              "      <th></th>\n",
              "      <th>title</th>\n",
              "      <th>videoIDS</th>\n",
              "      <th>video_description</th>\n",
              "      <th>publishedDate</th>\n",
              "      <th>likes</th>\n",
              "      <th>dislikes</th>\n",
              "      <th>views</th>\n",
              "      <th>comment</th>\n",
              "    </tr>\n",
              "  </thead>\n",
              "  <tbody>\n",
              "    <tr>\n",
              "      <th>0</th>\n",
              "      <td>Masuark - Por ti (Letra)</td>\n",
              "      <td>78MQkQj1cjc</td>\n",
              "      <td>Masuark\\nhttps://youtu.be/DulRGHuf6JA\\nhttps:/...</td>\n",
              "      <td>2020-05-11T23:13:12Z</td>\n",
              "      <td>1317</td>\n",
              "      <td>18</td>\n",
              "      <td>16681</td>\n",
              "      <td>88</td>\n",
              "    </tr>\n",
              "    <tr>\n",
              "      <th>1</th>\n",
              "      <td>Emvic - Quiero ser yo (Letra)</td>\n",
              "      <td>FuNvTwvmvNk</td>\n",
              "      <td>Emvic\\nhttps://instagram.com/_emvic_?igshid=ni...</td>\n",
              "      <td>2020-07-05T19:30:23Z</td>\n",
              "      <td>1190</td>\n",
              "      <td>9</td>\n",
              "      <td>13181</td>\n",
              "      <td>88</td>\n",
              "    </tr>\n",
              "    <tr>\n",
              "      <th>2</th>\n",
              "      <td>Candlees - Y a lo mejor (Letra)</td>\n",
              "      <td>qijleX_3FCc</td>\n",
              "      <td>Candlees\\nhttps://instagram.com/_candlees?igsh...</td>\n",
              "      <td>2020-05-10T01:13:53Z</td>\n",
              "      <td>1457</td>\n",
              "      <td>9</td>\n",
              "      <td>20491</td>\n",
              "      <td>88</td>\n",
              "    </tr>\n",
              "    <tr>\n",
              "      <th>3</th>\n",
              "      <td>Cyluz - Niña (Letra)</td>\n",
              "      <td>BBbX2AS4JlE</td>\n",
              "      <td>Cyluz\\nhttps://www.instagram.com/cyluz.pe/?hl=...</td>\n",
              "      <td>2020-05-06T00:50:17Z</td>\n",
              "      <td>1340</td>\n",
              "      <td>15</td>\n",
              "      <td>15517</td>\n",
              "      <td>88</td>\n",
              "    </tr>\n",
              "    <tr>\n",
              "      <th>4</th>\n",
              "      <td>Andrés Zavala - Lo que siento (Letra)</td>\n",
              "      <td>Wsb7GAHwcV0</td>\n",
              "      <td></td>\n",
              "      <td>2020-02-22T04:49:26Z</td>\n",
              "      <td>19489</td>\n",
              "      <td>102</td>\n",
              "      <td>380166</td>\n",
              "      <td>88</td>\n",
              "    </tr>\n",
              "  </tbody>\n",
              "</table>\n",
              "</div>"
            ],
            "text/plain": [
              "                                   title     videoIDS  ...   views comment\n",
              "0               Masuark - Por ti (Letra)  78MQkQj1cjc  ...   16681      88\n",
              "1          Emvic - Quiero ser yo (Letra)  FuNvTwvmvNk  ...   13181      88\n",
              "2        Candlees - Y a lo mejor (Letra)  qijleX_3FCc  ...   20491      88\n",
              "3                   Cyluz - Niña (Letra)  BBbX2AS4JlE  ...   15517      88\n",
              "4  Andrés Zavala - Lo que siento (Letra)  Wsb7GAHwcV0  ...  380166      88\n",
              "\n",
              "[5 rows x 8 columns]"
            ]
          },
          "metadata": {
            "tags": []
          },
          "execution_count": 4
        }
      ]
    },
    {
      "cell_type": "code",
      "metadata": {
        "colab": {
          "base_uri": "https://localhost:8080/",
          "height": 195
        },
        "id": "1NiV7wEtV5Ql",
        "outputId": "cf533637-213a-4c02-bda1-16c7c960007e"
      },
      "source": [
        "df2=clean_df(df1)\n",
        "df2.head()"
      ],
      "execution_count": null,
      "outputs": [
        {
          "output_type": "execute_result",
          "data": {
            "text/html": [
              "<div>\n",
              "<style scoped>\n",
              "    .dataframe tbody tr th:only-of-type {\n",
              "        vertical-align: middle;\n",
              "    }\n",
              "\n",
              "    .dataframe tbody tr th {\n",
              "        vertical-align: top;\n",
              "    }\n",
              "\n",
              "    .dataframe thead th {\n",
              "        text-align: right;\n",
              "    }\n",
              "</style>\n",
              "<table border=\"1\" class=\"dataframe\">\n",
              "  <thead>\n",
              "    <tr style=\"text-align: right;\">\n",
              "      <th></th>\n",
              "      <th>artista</th>\n",
              "      <th>cancion</th>\n",
              "      <th>videoIDS</th>\n",
              "      <th>likes</th>\n",
              "      <th>dislikes</th>\n",
              "      <th>views</th>\n",
              "      <th>date</th>\n",
              "      <th>liked</th>\n",
              "      <th>reactions</th>\n",
              "    </tr>\n",
              "  </thead>\n",
              "  <tbody>\n",
              "    <tr>\n",
              "      <th>0</th>\n",
              "      <td>masuark</td>\n",
              "      <td>por ti</td>\n",
              "      <td>78mqkqj1cjc</td>\n",
              "      <td>1317</td>\n",
              "      <td>18</td>\n",
              "      <td>16681</td>\n",
              "      <td>2020-05-11</td>\n",
              "      <td>0.986517</td>\n",
              "      <td>1335</td>\n",
              "    </tr>\n",
              "    <tr>\n",
              "      <th>1</th>\n",
              "      <td>emvic</td>\n",
              "      <td>quiero ser yo</td>\n",
              "      <td>funvtwvmvnk</td>\n",
              "      <td>1190</td>\n",
              "      <td>9</td>\n",
              "      <td>13181</td>\n",
              "      <td>2020-07-05</td>\n",
              "      <td>0.992494</td>\n",
              "      <td>1199</td>\n",
              "    </tr>\n",
              "    <tr>\n",
              "      <th>2</th>\n",
              "      <td>candlees</td>\n",
              "      <td>y a lo mejor</td>\n",
              "      <td>qijlex_3fcc</td>\n",
              "      <td>1457</td>\n",
              "      <td>9</td>\n",
              "      <td>20491</td>\n",
              "      <td>2020-05-10</td>\n",
              "      <td>0.993861</td>\n",
              "      <td>1466</td>\n",
              "    </tr>\n",
              "    <tr>\n",
              "      <th>3</th>\n",
              "      <td>cyluz</td>\n",
              "      <td>nina</td>\n",
              "      <td>bbbx2as4jle</td>\n",
              "      <td>1340</td>\n",
              "      <td>15</td>\n",
              "      <td>15517</td>\n",
              "      <td>2020-05-06</td>\n",
              "      <td>0.988930</td>\n",
              "      <td>1355</td>\n",
              "    </tr>\n",
              "    <tr>\n",
              "      <th>4</th>\n",
              "      <td>andres zavala</td>\n",
              "      <td>lo que siento</td>\n",
              "      <td>wsb7gahwcv0</td>\n",
              "      <td>19489</td>\n",
              "      <td>102</td>\n",
              "      <td>380166</td>\n",
              "      <td>2020-02-22</td>\n",
              "      <td>0.994794</td>\n",
              "      <td>19591</td>\n",
              "    </tr>\n",
              "  </tbody>\n",
              "</table>\n",
              "</div>"
            ],
            "text/plain": [
              "          artista          cancion     videoIDS  ...       date     liked  reactions\n",
              "0        masuark           por ti   78mqkqj1cjc  ... 2020-05-11  0.986517       1335\n",
              "1          emvic    quiero ser yo   funvtwvmvnk  ... 2020-07-05  0.992494       1199\n",
              "2       candlees     y a lo mejor   qijlex_3fcc  ... 2020-05-10  0.993861       1466\n",
              "3          cyluz             nina   bbbx2as4jle  ... 2020-05-06  0.988930       1355\n",
              "4  andres zavala    lo que siento   wsb7gahwcv0  ... 2020-02-22  0.994794      19591\n",
              "\n",
              "[5 rows x 9 columns]"
            ]
          },
          "metadata": {
            "tags": []
          },
          "execution_count": 5
        }
      ]
    },
    {
      "cell_type": "code",
      "metadata": {
        "colab": {
          "base_uri": "https://localhost:8080/",
          "height": 337
        },
        "id": "ycy7-AVvYkH6",
        "outputId": "ef3b3e7a-0cc0-4a55-bdb4-7edd39da74b5"
      },
      "source": [
        "top_artistas(df2,10)"
      ],
      "execution_count": null,
      "outputs": [
        {
          "output_type": "display_data",
          "data": {
            "image/png": "[encoded data removed]",
            "text/plain": [
              "<Figure size 432x288 with 1 Axes>"
            ]
          },
          "metadata": {
            "tags": [],
            "needs_background": "light"
          }
        }
      ]
    },
    {
      "cell_type": "code",
      "metadata": {
        "colab": {
          "base_uri": "https://localhost:8080/",
          "height": 77
        },
        "id": "qC1oMggrWitk",
        "outputId": "9c7fa54e-5880-448b-88e7-7205e7f8a7f4"
      },
      "source": [
        "df2.loc[df2.liked == df2.liked.max()]"
      ],
      "execution_count": null,
      "outputs": [
        {
          "output_type": "execute_result",
          "data": {
            "text/html": [
              "<div>\n",
              "<style scoped>\n",
              "    .dataframe tbody tr th:only-of-type {\n",
              "        vertical-align: middle;\n",
              "    }\n",
              "\n",
              "    .dataframe tbody tr th {\n",
              "        vertical-align: top;\n",
              "    }\n",
              "\n",
              "    .dataframe thead th {\n",
              "        text-align: right;\n",
              "    }\n",
              "</style>\n",
              "<table border=\"1\" class=\"dataframe\">\n",
              "  <thead>\n",
              "    <tr style=\"text-align: right;\">\n",
              "      <th></th>\n",
              "      <th>artista</th>\n",
              "      <th>cancion</th>\n",
              "      <th>videoIDS</th>\n",
              "      <th>likes</th>\n",
              "      <th>dislikes</th>\n",
              "      <th>views</th>\n",
              "      <th>date</th>\n",
              "      <th>liked</th>\n",
              "      <th>reactions</th>\n",
              "    </tr>\n",
              "  </thead>\n",
              "  <tbody>\n",
              "    <tr>\n",
              "      <th>25</th>\n",
              "      <td>billy manhattan</td>\n",
              "      <td>fingir que nos queremos</td>\n",
              "      <td>-bvifo3cfva</td>\n",
              "      <td>1478</td>\n",
              "      <td>4</td>\n",
              "      <td>21743</td>\n",
              "      <td>2020-04-11</td>\n",
              "      <td>0.997301</td>\n",
              "      <td>1482</td>\n",
              "    </tr>\n",
              "  </tbody>\n",
              "</table>\n",
              "</div>"
            ],
            "text/plain": [
              "             artista                    cancion  ...     liked  reactions\n",
              "25  billy manhattan    fingir que nos queremos   ...  0.997301       1482\n",
              "\n",
              "[1 rows x 9 columns]"
            ]
          },
          "metadata": {
            "tags": []
          },
          "execution_count": 14
        }
      ]
    },
    {
      "cell_type": "code",
      "metadata": {
        "colab": {
          "base_uri": "https://localhost:8080/",
          "height": 279
        },
        "id": "2CnWxF22ZqU_",
        "outputId": "6581cf8b-b481-4437-a54c-1f6bb997a3be"
      },
      "source": [
        "df= dataframe_videos(\"PLNeEokHpTtxEg0wkC4dO5mTJNuQL2wY7Y\")\n",
        "df.head()"
      ],
      "execution_count": null,
      "outputs": [
        {
          "output_type": "execute_result",
          "data": {
            "text/html": [
              "<div>\n",
              "<style scoped>\n",
              "    .dataframe tbody tr th:only-of-type {\n",
              "        vertical-align: middle;\n",
              "    }\n",
              "\n",
              "    .dataframe tbody tr th {\n",
              "        vertical-align: top;\n",
              "    }\n",
              "\n",
              "    .dataframe thead th {\n",
              "        text-align: right;\n",
              "    }\n",
              "</style>\n",
              "<table border=\"1\" class=\"dataframe\">\n",
              "  <thead>\n",
              "    <tr style=\"text-align: right;\">\n",
              "      <th></th>\n",
              "      <th>title</th>\n",
              "      <th>videoIDS</th>\n",
              "      <th>video_description</th>\n",
              "      <th>publishedDate</th>\n",
              "      <th>likes</th>\n",
              "      <th>dislikes</th>\n",
              "      <th>views</th>\n",
              "      <th>comment</th>\n",
              "    </tr>\n",
              "  </thead>\n",
              "  <tbody>\n",
              "    <tr>\n",
              "      <th>0</th>\n",
              "      <td>Fall Out Boy - Dance, Dance (Closed Captioned,...</td>\n",
              "      <td>C6MOKXm8x50</td>\n",
              "      <td>Music video by Fall Out Boy performing Dance, ...</td>\n",
              "      <td>2018-10-14T17:38:03Z</td>\n",
              "      <td>717275</td>\n",
              "      <td>22363</td>\n",
              "      <td>129203134</td>\n",
              "      <td>3182</td>\n",
              "    </tr>\n",
              "    <tr>\n",
              "      <th>1</th>\n",
              "      <td>Muse - Undisclosed Desires</td>\n",
              "      <td>R8OOWcsFj0U</td>\n",
              "      <td>Watch the music video for \"Undisclosed Desires...</td>\n",
              "      <td>2018-10-14T17:38:13Z</td>\n",
              "      <td>403566</td>\n",
              "      <td>9286</td>\n",
              "      <td>96656628</td>\n",
              "      <td>3182</td>\n",
              "    </tr>\n",
              "    <tr>\n",
              "      <th>2</th>\n",
              "      <td>In The End (Official HD Video) - Linkin Park</td>\n",
              "      <td>eVTXPUF4Oz4</td>\n",
              "      <td>Hybrid Theory 20th Anniversary Edition availab...</td>\n",
              "      <td>2018-10-14T17:38:23Z</td>\n",
              "      <td>7110591</td>\n",
              "      <td>176596</td>\n",
              "      <td>1108041441</td>\n",
              "      <td>3182</td>\n",
              "    </tr>\n",
              "    <tr>\n",
              "      <th>3</th>\n",
              "      <td>B.o.B - Airplanes (feat. Hayley Williams of Pa...</td>\n",
              "      <td>kn6-c223DUU</td>\n",
              "      <td>The official video for \"Airplanes\" by B.o.B fe...</td>\n",
              "      <td>2018-10-14T17:38:32Z</td>\n",
              "      <td>2864040</td>\n",
              "      <td>74045</td>\n",
              "      <td>564299296</td>\n",
              "      <td>3182</td>\n",
              "    </tr>\n",
              "    <tr>\n",
              "      <th>4</th>\n",
              "      <td>Paramore: Decode [OFFICIAL VIDEO]</td>\n",
              "      <td>RvnkAtWcKYg</td>\n",
              "      <td>Paramore's music video for 'Decode' from the s...</td>\n",
              "      <td>2018-10-14T17:38:38Z</td>\n",
              "      <td>1549902</td>\n",
              "      <td>35758</td>\n",
              "      <td>337929768</td>\n",
              "      <td>3182</td>\n",
              "    </tr>\n",
              "  </tbody>\n",
              "</table>\n",
              "</div>"
            ],
            "text/plain": [
              "                                               title  ... comment\n",
              "0  Fall Out Boy - Dance, Dance (Closed Captioned,...  ...    3182\n",
              "1                         Muse - Undisclosed Desires  ...    3182\n",
              "2       In The End (Official HD Video) - Linkin Park  ...    3182\n",
              "3  B.o.B - Airplanes (feat. Hayley Williams of Pa...  ...    3182\n",
              "4                  Paramore: Decode [OFFICIAL VIDEO]  ...    3182\n",
              "\n",
              "[5 rows x 8 columns]"
            ]
          },
          "metadata": {
            "tags": []
          },
          "execution_count": 16
        }
      ]
    },
    {
      "cell_type": "code",
      "metadata": {
        "id": "-0w9Y7x5k8Dq"
      },
      "source": [
        "\n",
        "df = df_clean"
      ],
      "execution_count": null,
      "outputs": []
    },
    {
      "cell_type": "code",
      "metadata": {
        "colab": {
          "base_uri": "https://localhost:8080/",
          "height": 480
        },
        "id": "OLJqAW8LlClE",
        "outputId": "64ad3efd-3ecb-4b2b-e94a-0673853a7fad"
      },
      "source": [
        "top_artistas(df)"
      ],
      "execution_count": null,
      "outputs": [
        {
          "output_type": "display_data",
          "data": {
            "image/png": "[encoded data removed]",
            "text/plain": [
              "<Figure size 432x288 with 1 Axes>"
            ]
          },
          "metadata": {
            "tags": [],
            "needs_background": "light"
          }
        }
      ]
    },
    {
      "cell_type": "code",
      "metadata": {
        "colab": {
          "base_uri": "https://localhost:8080/",
          "height": 77
        },
        "id": "wVqefaUhlULl",
        "outputId": "0f01c8ce-d2f3-4e11-f81c-05248920eb82"
      },
      "source": [
        "df.loc[df.views == df.views.max()]"
      ],
      "execution_count": null,
      "outputs": [
        {
          "output_type": "execute_result",
          "data": {
            "text/html": [
              "<div>\n",
              "<style scoped>\n",
              "    .dataframe tbody tr th:only-of-type {\n",
              "        vertical-align: middle;\n",
              "    }\n",
              "\n",
              "    .dataframe tbody tr th {\n",
              "        vertical-align: top;\n",
              "    }\n",
              "\n",
              "    .dataframe thead th {\n",
              "        text-align: right;\n",
              "    }\n",
              "</style>\n",
              "<table border=\"1\" class=\"dataframe\">\n",
              "  <thead>\n",
              "    <tr style=\"text-align: right;\">\n",
              "      <th></th>\n",
              "      <th>artista</th>\n",
              "      <th>cancion</th>\n",
              "      <th>videoIDS</th>\n",
              "      <th>likes</th>\n",
              "      <th>dislikes</th>\n",
              "      <th>views</th>\n",
              "      <th>date</th>\n",
              "      <th>liked</th>\n",
              "      <th>reactions</th>\n",
              "    </tr>\n",
              "  </thead>\n",
              "  <tbody>\n",
              "    <tr>\n",
              "      <th>2</th>\n",
              "      <td>in the end</td>\n",
              "      <td>linkin park</td>\n",
              "      <td>evtxpuf4oz4</td>\n",
              "      <td>7110591</td>\n",
              "      <td>176596</td>\n",
              "      <td>1108041441</td>\n",
              "      <td>2018-10-14</td>\n",
              "      <td>0.975766</td>\n",
              "      <td>7287187</td>\n",
              "    </tr>\n",
              "  </tbody>\n",
              "</table>\n",
              "</div>"
            ],
            "text/plain": [
              "       artista       cancion     videoIDS  ...       date     liked  reactions\n",
              "2  in the end    linkin park  evtxpuf4oz4  ... 2018-10-14  0.975766    7287187\n",
              "\n",
              "[1 rows x 9 columns]"
            ]
          },
          "metadata": {
            "tags": []
          },
          "execution_count": 32
        }
      ]
    },
    {
      "cell_type": "code",
      "metadata": {
        "id": "T6mTW-oIljSx"
      },
      "source": [
        ""
      ],
      "execution_count": null,
      "outputs": []
    }
  ]
}